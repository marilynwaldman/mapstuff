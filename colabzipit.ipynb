{
  "nbformat": 4,
  "nbformat_minor": 0,
  "metadata": {
    "colab": {
      "name": "colabzipit.ipynb",
      "provenance": [],
      "authorship_tag": "ABX9TyOp/MHuZA8mEelbthrsCPmz",
      "include_colab_link": true
    },
    "kernelspec": {
      "name": "python3",
      "display_name": "Python 3"
    },
    "language_info": {
      "name": "python"
    }
  },
  "cells": [
    {
      "cell_type": "markdown",
      "metadata": {
        "id": "view-in-github",
        "colab_type": "text"
      },
      "source": [
        "<a href=\"https://colab.research.google.com/github/marilynwaldman/mapstuff/blob/main/colabzipit.ipynb\" target=\"_parent\"><img src=\"https://colab.research.google.com/assets/colab-badge.svg\" alt=\"Open In Colab\"/></a>"
      ]
    },
    {
      "cell_type": "code",
      "metadata": {
        "colab": {
          "base_uri": "https://localhost:8080/"
        },
        "id": "RmtP3elqnA-F",
        "outputId": "c0154b07-12ad-4b8f-a564-07296af9bcc1"
      },
      "source": [
        "# Load the Drive helper and mount\n",
        "from google.colab import drive\n",
        "\n",
        "# This will prompt for authorization.\n",
        "drive.mount('/content/drive')\n",
        "!ls \"/content/drive/My Drive\"\n",
        "%cd \"/content/drive/My Drive\"\n",
        "! pwd\n",
        "!ls -a\n"
      ],
      "execution_count": 1,
      "outputs": [
        {
          "output_type": "stream",
          "name": "stdout",
          "text": [
            "Mounted at /content/drive\n",
            "'Colab Notebooks'\n",
            "'Copy of [Full Version] Facilitator Workshop Guide (1).gdoc'\n",
            "'Copy of [Full Version] Facilitator Workshop Guide.gdoc'\n",
            " data\n",
            " doggievae\n",
            " File_000.vcf\n",
            " gans\n",
            " kglab\n",
            " maps\n",
            "'Marilyn Waldmman i-9 signed.gdoc'\n",
            "'Marilyn Waldmman i-9 signed.pdf'\n",
            " pytorch\n",
            " Pytorch-VAE-tutorial\n",
            " query.ipynb\n",
            " SchoolMaps\n",
            " tensorflow2\n",
            " test.csv\n",
            " Timeline\n",
            " Untitled\n",
            " Untitled0.ipynb\n",
            "'Untitled Diagram (1).drawio'\n",
            "'Untitled Diagram.drawio'\n",
            "'Untitled Jam.gjam'\n",
            " vae\n",
            " vega\n",
            "/content/drive/My Drive\n",
            "/content/drive/My Drive\n",
            "'Colab Notebooks'\n",
            "'Copy of [Full Version] Facilitator Workshop Guide (1).gdoc'\n",
            "'Copy of [Full Version] Facilitator Workshop Guide.gdoc'\n",
            " data\n",
            " doggievae\n",
            " File_000.vcf\n",
            " gans\n",
            " kglab\n",
            " maps\n",
            "'Marilyn Waldmman i-9 signed.gdoc'\n",
            "'Marilyn Waldmman i-9 signed.pdf'\n",
            " pytorch\n",
            " Pytorch-VAE-tutorial\n",
            " query.ipynb\n",
            " SchoolMaps\n",
            " tensorflow2\n",
            " test.csv\n",
            " Timeline\n",
            " Untitled\n",
            " Untitled0.ipynb\n",
            "'Untitled Diagram (1).drawio'\n",
            "'Untitled Diagram.drawio'\n",
            "'Untitled Jam.gjam'\n",
            " vae\n",
            " vega\n"
          ]
        }
      ]
    },
    {
      "cell_type": "code",
      "metadata": {
        "colab": {
          "base_uri": "https://localhost:8080/"
        },
        "id": "s3I25L67oktf",
        "outputId": "4888ac5d-7227-4875-f00b-e1e3f868aefd"
      },
      "source": [
        "!pwd\n",
        "%cd data\n",
        "%cd data\n",
        "%cd CAWaterDistricts\n",
        "%cd Water_Districts\n",
        "!pwd\n",
        "!ls -l\n",
        "!zip -r Water_Districts.zip .\n",
        "!ls -l\n"
      ],
      "execution_count": 6,
      "outputs": [
        {
          "output_type": "stream",
          "name": "stdout",
          "text": [
            "/content/drive/My Drive/data/data/CAWaterDistricts/Water_Districts\n",
            "[Errno 2] No such file or directory: 'data'\n",
            "/content/drive/My Drive/data/data/CAWaterDistricts/Water_Districts\n",
            "[Errno 2] No such file or directory: 'data'\n",
            "/content/drive/My Drive/data/data/CAWaterDistricts/Water_Districts\n",
            "[Errno 2] No such file or directory: 'CAWaterDistricts'\n",
            "/content/drive/My Drive/data/data/CAWaterDistricts/Water_Districts\n",
            "[Errno 2] No such file or directory: 'Water_Districts'\n",
            "/content/drive/My Drive/data/data/CAWaterDistricts/Water_Districts\n",
            "/content/drive/My Drive/data/data/CAWaterDistricts/Water_Districts\n",
            "total 39405\n",
            "-rw------- 1 root root        5 Nov 21 09:45 Water_Districts.cpg\n",
            "-rw------- 1 root root  1094272 Nov 21 09:45 Water_Districts.dbf\n",
            "-rw------- 1 root root      425 Nov 21 09:45 Water_Districts.prj\n",
            "-rw------- 1 root root 39221504 Nov 21 09:45 Water_Districts.shp\n",
            "-rw------- 1 root root    28700 Nov 21 09:45 Water_Districts.shx\n",
            "-rw------- 1 root root     3383 Nov 21 09:45 Water_Districts.xml\n",
            "  adding: Water_Districts.cpg (stored 0%)\n",
            "  adding: Water_Districts.prj (deflated 42%)\n",
            "  adding: Water_Districts.dbf (deflated 84%)\n",
            "  adding: Water_Districts.shp (deflated 37%)\n",
            "  adding: Water_Districts.xml (deflated 68%)\n",
            "  adding: Water_Districts.shx (deflated 33%)\n",
            "total 63841\n",
            "-rw------- 1 root root        5 Nov 21 09:45 Water_Districts.cpg\n",
            "-rw------- 1 root root  1094272 Nov 21 09:45 Water_Districts.dbf\n",
            "-rw------- 1 root root      425 Nov 21 09:45 Water_Districts.prj\n",
            "-rw------- 1 root root 39221504 Nov 21 09:45 Water_Districts.shp\n",
            "-rw------- 1 root root    28700 Nov 21 09:45 Water_Districts.shx\n",
            "-rw------- 1 root root     3383 Nov 21 09:45 Water_Districts.xml\n",
            "-rw------- 1 root root 25022188 Nov 24 14:40 Water_Districts.zip\n"
          ]
        }
      ]
    },
    {
      "cell_type": "code",
      "metadata": {
        "colab": {
          "base_uri": "https://localhost:8080/"
        },
        "id": "zAM7QiXUqOzJ",
        "outputId": "e9f8fbe5-54a6-455f-97b9-8beae67a1063"
      },
      "source": [
        "!!unzip Water_Districts.zip -d ./whodo"
      ],
      "execution_count": null,
      "outputs": [
        {
          "output_type": "execute_result",
          "data": {
            "text/plain": [
              "['Archive:  Water_Districts.zip',\n",
              " '   creating: ./whodo/Water_Districts/',\n",
              " ' extracting: ./whodo/Water_Districts/Water_Districts.cpg  ',\n",
              " '  inflating: ./whodo/Water_Districts/Water_Districts.prj  ',\n",
              " '  inflating: ./whodo/Water_Districts/Water_Districts.dbf  ',\n",
              " '  inflating: ./whodo/Water_Districts/Water_Districts.shp  ',\n",
              " '  inflating: ./whodo/Water_Districts/Water_Districts.xml  ',\n",
              " '  inflating: ./whodo/Water_Districts/Water_Districts.shx  ']"
            ]
          },
          "metadata": {},
          "execution_count": 27
        }
      ]
    },
    {
      "cell_type": "code",
      "metadata": {
        "id": "rzLMZoVevCTw"
      },
      "source": [
        ""
      ],
      "execution_count": null,
      "outputs": []
    }
  ]
}