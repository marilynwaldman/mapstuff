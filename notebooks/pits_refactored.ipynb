{
 "cells": [
  {
   "cell_type": "code",
   "execution_count": null,
   "id": "53902753",
   "metadata": {},
   "outputs": [],
   "source": [
    "import pandas as pd\n",
    "import folium as fl\n",
    "from folium.plugins import FastMarkerCluster,MarkerCluster,MiniMap\n",
    "import branca.colormap as cm\n",
    "import geopandas as gpd"
   ]
  },
  {
   "cell_type": "markdown",
   "id": "129deae5",
   "metadata": {},
   "source": [
    "# Pits and Ponds\n",
    "1.  Pits\n",
    "    a.  Read data and clean - returns a dataframe\n",
    "    b.  aggregate, sum and sort - return a list of top n values\n",
    "    c.  create map\n",
    "    d.  add markers for each element of list in 2 above\n",
    "    3.  create layesrs\n"
   ]
  },
  {
   "cell_type": "code",
   "execution_count": null,
   "id": "d04d95c2",
   "metadata": {},
   "outputs": [],
   "source": [
    "# Read data and cleans - pit data\n",
    "def get_pits_df():\n",
    "    \n",
    "    df1 = pd.read_csv('/Users/marilynwaldman/Downloads/CA_WastewaterPits_Fractracker/CA_WastewaterPits_FracTracker.csv')\n",
    "    df1['Pit Count'].replace({\"Unknown\":1},inplace=True)\n",
    "    df1.head()\n",
    "    \n",
    "    df2 = pd.read_csv('/Users/marilynwaldman/Downloads/CA_WastewaterPits_Fractracker/CA_WastewaterPits_Reviseddataset_FracTracker.csv')\n",
    "    #replace Pit Count \"Unknown\" to 1\n",
    "    # drop Operator.1 from df2\n",
    "    df2.drop('Operator.1',axis=1,inplace=True)\n",
    "    print(df2.columns)\n",
    "    \n",
    "    frames = [df1, df2]\n",
    "    df = pd.concat(frames)\n",
    "    #replace Pit Count \"Unknown\" to 1\n",
    "    df['Pit Count'].replace({\"Unknown\":1},inplace=True)\n",
    "    #replace newlines with space\n",
    "    df['Operator'].replace(r'\\n',' ', regex=True,inplace=True) \n",
    "    #Compute number of sites\n",
    "    df['Sites'] = df['Pit Count'].astype(int)\n",
    "    return df"
   ]
  },
  {
   "cell_type": "code",
   "execution_count": null,
   "id": "82f88746",
   "metadata": {},
   "outputs": [],
   "source": [
    "df_pits = get_pits_df()\n",
    "df_pits.head()"
   ]
  },
  {
   "cell_type": "code",
   "execution_count": null,
   "id": "423b6625",
   "metadata": {},
   "outputs": [],
   "source": [
    "#aggregate pit df and return a list of top n Operators\n",
    "def get_pits_top_n(df, n):\n",
    "    \n",
    "    pit_hist = df.groupby('Operator').sum().sort_values(by='Sites',ascending=False)\n",
    "    pitlist = pit_hist['Sites'].index.values.tolist()\n",
    "    \n",
    "    return pitlist[0:n]\n",
    "  \n",
    "    "
   ]
  },
  {
   "cell_type": "code",
   "execution_count": null,
   "id": "7eb8d3b2",
   "metadata": {},
   "outputs": [],
   "source": [
    "pit_list = get_pits_top_n(df_pits, 6)\n",
    "pit_list"
   ]
  },
  {
   "cell_type": "code",
   "execution_count": null,
   "id": "13575231",
   "metadata": {},
   "outputs": [],
   "source": [
    "def create_map():\n",
    "    calmap = fl.Map(location=[34.8721, -122.2578],\n",
    "                zoom_start=6,tiles=None)\n",
    "    fl.TileLayer('Stamen Toner',name='BackGround',control=False).add_to(calmap)\n",
    "    \n",
    "    return calmap"
   ]
  },
  {
   "cell_type": "code",
   "execution_count": null,
   "id": "5a1b0b6b",
   "metadata": {},
   "outputs": [],
   "source": [
    "pit_map = create_map()\n",
    "pit_map"
   ]
  },
  {
   "cell_type": "code",
   "execution_count": null,
   "id": "1c989a17",
   "metadata": {},
   "outputs": [],
   "source": [
    "def add_counties(calmap):\n",
    "    ca_counties_gdf = gpd.read_file(\"../data/california_counties/CaliforniaCounties.shp\")\n",
    "    fl.GeoJson(ca_counties_gdf, name='California Counties', control=False,\n",
    "               style_function = lambda x: {\"weight\":0.5, \n",
    "                            'color':'grey',\n",
    "                            'fillColor':'transparent',\n",
    "#                            'fillColor':colormap_county(x['properties']['Active']), \n",
    "                            'fillOpacity':0.5\n",
    "               }\n",
    "           \n",
    "              ).add_to(calmap)\n",
    "    return calmap\n"
   ]
  },
  {
   "cell_type": "code",
   "execution_count": null,
   "id": "41bc5292",
   "metadata": {},
   "outputs": [],
   "source": [
    "pit_map = add_counties(pit_map)\n",
    "pit_map"
   ]
  },
  {
   "cell_type": "code",
   "execution_count": null,
   "id": "a5c015e1",
   "metadata": {},
   "outputs": [],
   "source": [
    "# getgdf (df, col_name, col_value)\n",
    "# helper function\n",
    "\n",
    "def getgdf(df, column_name, column_value):\n",
    "    # input a dataframe, a column and column value\n",
    "    # returns -  geopandas dataframe with lat/lon\n",
    "    odf  =  df[df[column_name] == column_value]\n",
    "    odfgpd = gpd.GeoDataFrame(odf,geometry=gpd.points_from_xy(odf.Longitude, odf.Latitude))\n",
    "    return(odfgpd)"
   ]
  },
  {
   "cell_type": "code",
   "execution_count": null,
   "id": "05800e98",
   "metadata": {},
   "outputs": [],
   "source": [
    "def get_markers(mlist, df, calmap, zoom_max):\n",
    "    \n",
    "    for operator in mlist:\n",
    "        gdfpit = getgdf(df, \"Operator\", operator)\n",
    "        gdfpit.set_crs('EPSG:4269',inplace=True)\n",
    "        marker_name = operator \n",
    "        opmarker = MarkerCluster(name=marker_name,overlay=True,control=True,disableClusteringAtZoom=zoom_max,\n",
    "                              spiderfyOnMaxZoom=zoom_max)\n",
    "\n",
    "        # Note that CircleMarkers are saved to the MarkerCluster layer, not the map\n",
    "        gdfpit.apply(lambda row:\n",
    "                        fl.CircleMarker(name='Pit Markers', control=True, zindexoffset=1000,\n",
    "                                  location=[row['geometry'].y, row['geometry'].x],\n",
    "                                  radius=5,\n",
    "                                  color='orange',\n",
    "                                  fill=True,\n",
    "                                  fill_color='yellow',\n",
    "                                  popup=row['Operator'],\n",
    "                            \n",
    "               highlight_function = lambda x: {'fillColor': '#000000', \n",
    "                                'color':'#000000', \n",
    "                                'fillOpacity': 0.25, \n",
    "                                'weight': 0.1\n",
    "               },\n",
    "               \n",
    "               tooltip = \"Operator: %s<br>Pits: %s\" % (row['Operator'], row['Sites'])             \n",
    "\n",
    "                                 ).add_to(opmarker), \n",
    "                         axis=1)\n",
    "\n",
    "\n",
    "               \n",
    "        #Add the Markeluster layer to the map\n",
    "        opmarker.add_to(calmap)\n",
    "        \n",
    "    return(calmap)\n",
    "    "
   ]
  },
  {
   "cell_type": "code",
   "execution_count": null,
   "id": "cba7285d",
   "metadata": {},
   "outputs": [],
   "source": [
    "pit_map = get_markers(pit_list, df_pits, pit_map, zoom_max = 15)\n",
    "pit_map"
   ]
  },
  {
   "cell_type": "code",
   "execution_count": null,
   "id": "ac6ee440",
   "metadata": {},
   "outputs": [],
   "source": [
    "# Finally add control layer and display map\n",
    "fl.LayerControl(collapsed=False).add_to(pit_map)\n",
    "pit_map\n"
   ]
  },
  {
   "cell_type": "code",
   "execution_count": null,
   "id": "5e3daf09",
   "metadata": {},
   "outputs": [],
   "source": []
  }
 ],
 "metadata": {
  "kernelspec": {
   "display_name": "Python 3 (ipykernel)",
   "language": "python",
   "name": "python3"
  },
  "language_info": {
   "codemirror_mode": {
    "name": "ipython",
    "version": 3
   },
   "file_extension": ".py",
   "mimetype": "text/x-python",
   "name": "python",
   "nbconvert_exporter": "python",
   "pygments_lexer": "ipython3",
   "version": "3.9.7"
  }
 },
 "nbformat": 4,
 "nbformat_minor": 5
}
